{
  "cells": [
    {
      "cell_type": "markdown",
      "metadata": {
        "id": "view-in-github",
        "colab_type": "text"
      },
      "source": [
        "<a href=\"https://colab.research.google.com/github/purvaingle/Identification-of-Frost-in-Martian-HiRISE-Images/blob/main/v2.ipynb\" target=\"_parent\"><img src=\"https://colab.research.google.com/assets/colab-badge.svg\" alt=\"Open In Colab\"/></a>"
      ]
    },
    {
      "cell_type": "markdown",
      "metadata": {
        "id": "eIG3s3W14ARH"
      },
      "source": [
        "### 1. Identification of Frost in Martian HiRISE Images1"
      ]
    },
    {
      "cell_type": "markdown",
      "metadata": {
        "id": "k321WSzL4F7p"
      },
      "source": [
        "#### Importing libraries"
      ]
    },
    {
      "cell_type": "code",
      "execution_count": null,
      "metadata": {
        "id": "AEO1o-jWCy6n"
      },
      "outputs": [],
      "source": [
        "import os\n",
        "import os.path as op\n",
        "import json\n",
        "from pathlib import Path\n",
        "import shutil\n",
        "import logging\n",
        "import numpy as np\n",
        "from tqdm import tqdm\n",
        "from skimage import io\n",
        "import zipfile\n",
        "import random\n",
        "import tensorflow as tf\n",
        "from PIL import Image\n",
        "import cv2\n",
        "from tensorflow.keras.applications import EfficientNetB0, ResNet50, VGG16\n",
        "import tensorflow as tf\n",
        "from tensorflow.keras.models import Sequential\n",
        "from tensorflow.keras.layers import Conv2D, MaxPooling2D, Flatten, Dense, Dropout, BatchNormalization\n",
        "from tensorflow.keras.regularizers import l2\n",
        "from tensorflow.keras.optimizers import Adam\n",
        "from tensorflow.keras.callbacks import EarlyStopping\n",
        "import matplotlib.pyplot as plt\n",
        "from sklearn.metrics import classification_report\n",
        "from sklearn.metrics import precision_score, recall_score, f1_score\n",
        "from tensorflow.keras.layers import GlobalAveragePooling2D, BatchNormalization, Dropout, Dense\n"
      ]
    },
    {
      "cell_type": "code",
      "execution_count": null,
      "metadata": {
        "colab": {
          "base_uri": "https://localhost:8080/"
        },
        "id": "zhOB_-UDopn2",
        "outputId": "d07d4cd0-3a09-4509-fd82-b459bdf3d690"
      },
      "outputs": [
        {
          "name": "stdout",
          "output_type": "stream",
          "text": [
            "Drive already mounted at /content/drive; to attempt to forcibly remount, call drive.mount(\"/content/drive\", force_remount=True).\n"
          ]
        }
      ],
      "source": [
        "# from google.colab import drive\n",
        "# drive.mount('/content/drive')\n"
      ]
    },
    {
      "cell_type": "code",
      "execution_count": null,
      "metadata": {
        "colab": {
          "base_uri": "https://localhost:8080/"
        },
        "id": "oVWvNIp_9Ioj",
        "outputId": "b5404017-aa00-4f06-c0d9-54e210913da5"
      },
      "outputs": [
        {
          "name": "stdout",
          "output_type": "stream",
          "text": [
            "URL transformed to HTTPS due to an HSTS policy\n",
            "--2023-12-06 02:48:39--  https://dataverse.jpl.nasa.gov/api/access/datafile/83039\n",
            "Resolving dataverse.jpl.nasa.gov (dataverse.jpl.nasa.gov)... 128.149.107.132\n",
            "Connecting to dataverse.jpl.nasa.gov (dataverse.jpl.nasa.gov)|128.149.107.132|:443... connected.\n",
            "HTTP request sent, awaiting response... 200 OK\n",
            "Length: 2738356883 (2.5G) [application/zip]\n",
            "Saving to: ‘/content/drive/MyDrive/Colab Notebooks/project/data2.zip’\n",
            "\n",
            "/content/drive/MyDr 100%[===================>]   2.55G  24.0MB/s    in 1m 57s  \n",
            "\n",
            "2023-12-06 02:50:37 (22.3 MB/s) - ‘/content/drive/MyDrive/Colab Notebooks/project/data2.zip’ saved [2738356883/2738356883]\n",
            "\n"
          ]
        }
      ],
      "source": [
        "# !wget -O /content/drive/MyDrive/Colab\\ Notebooks/project/data2.zip http://dataverse.jpl.nasa.gov/api/access/datafile/83039\n",
        "\n"
      ]
    },
    {
      "cell_type": "markdown",
      "metadata": {
        "id": "-FnydDyT4W_j"
      },
      "source": [
        "1. (a) Importing the dataset\n"
      ]
    },
    {
      "cell_type": "code",
      "execution_count": null,
      "metadata": {
        "id": "BaAHh4_aAaV5"
      },
      "outputs": [],
      "source": [
        "# import zipfile\n",
        "# import os\n",
        "\n",
        "# zip_path = '/content/drive/MyDrive/Colab Notebooks/project/data2.zip'  # Path to your downloaded zip file\n",
        "# extracted_path = '/content/drive/MyDrive/Colab Notebooks/project/dataset2'  # Destination directory for extracted files\n",
        "\n",
        "# # Create the directory to extract files if it doesn't exist\n",
        "# os.makedirs(extracted_path, exist_ok=True)\n",
        "\n",
        "# # Unzip the file\n",
        "# with zipfile.ZipFile(zip_path, 'r') as zip_ref:\n",
        "#     zip_ref.extractall(extracted_path)\n"
      ]
    },
    {
      "cell_type": "markdown",
      "metadata": {
        "id": "C3GqKt8Z4P4g"
      },
      "source": [
        "1.(b) Data Exploration and Pre-processing"
      ]
    },
    {
      "cell_type": "code",
      "execution_count": null,
      "metadata": {
        "id": "7PQRQdzJaAhP"
      },
      "outputs": [],
      "source": [
        "logging.basicConfig(level=logging.INFO,\n",
        "                    datefmt='%H:%M:%S',\n",
        "                    format='%(asctime)s | %(levelname)-5s | %(module)-15s | %(message)s')\n",
        "\n",
        "IMAGE_SIZE = (299, 299)  # All images contained in this dataset are 299x299 (originally, to match Inception v3 input size)\n",
        "SEED = 17\n",
        "\n",
        "# Head directory containing all image subframes. Update with the relative path of your data directory\n",
        "data_head_dir = Path('/content/drive/MyDrive/Colab Notebooks/project/dataset/data')\n",
        "\n",
        "# Find all subframe directories\n",
        "subdirs = [Path(subdir.stem) for subdir in data_head_dir.iterdir() if subdir.is_dir()]\n",
        "src_image_ids = ['_'.join(a_path.name.split('_')[:3]) for a_path in subdirs]"
      ]
    },
    {
      "cell_type": "code",
      "execution_count": null,
      "metadata": {
        "id": "_5BuDWvGlPQ6"
      },
      "outputs": [],
      "source": [
        "# Load train/val/test subframe IDs\n",
        "def load_text_ids(file_path):\n",
        "    \"\"\"Simple helper to load all lines from a text file\"\"\"\n",
        "    with open(file_path, 'r') as f:\n",
        "        lines = [line.strip() for line in f.readlines()]\n",
        "    return lines\n",
        "\n",
        "# Load the subframe names for the three data subsets\n",
        "train_ids = load_text_ids('/content/drive/MyDrive/Colab Notebooks/project/train_source_images.txt')\n",
        "validate_ids = load_text_ids('/content/drive/MyDrive/Colab Notebooks/project/val_source_images.txt')\n",
        "test_ids = load_text_ids('/content/drive/MyDrive/Colab Notebooks/project/test_source_images.txt')\n",
        "\n",
        "# Generate a list containing the dataset split for the matching subdirectory names\n",
        "subdir_splits = []\n",
        "for src_id in src_image_ids:\n",
        "    if src_id in train_ids:\n",
        "        subdir_splits.append('train')\n",
        "    elif src_id in validate_ids:\n",
        "        subdir_splits.append('validate')\n",
        "    elif(src_id in test_ids):\n",
        "        subdir_splits.append('test')\n",
        "    else:\n",
        "        logging.warning(f'{src_id}: Did not find designated split in train/validate/test list.')\n",
        "        subdir_splits.append(None)"
      ]
    },
    {
      "cell_type": "markdown",
      "metadata": {
        "id": "HFdqfOMD5oza"
      },
      "source": [
        "Image loading + preprocessing(1. (b)) + data augmentation (1. (c) i.)\n",
        "\n",
        "For data augmentation, I randomly perform 3 data augmentation techniques on each image, and towards the end, out of my entire augmented dataset, I am only choosing 5585 samples and then combining it with the original dataset."
      ]
    },
    {
      "cell_type": "code",
      "execution_count": null,
      "metadata": {
        "id": "Vd_PsgaOoTfZ"
      },
      "outputs": [],
      "source": [
        "def load_and_preprocess2(img_loc, label):\n",
        "    def _augment_image(img):\n",
        "      # print(\"hi im inside augment fn\")\n",
        "\n",
        "\n",
        "      augmentation_functions = [\n",
        "        lambda img: cv2.resize(img, (299, 299)),\n",
        "        lambda img: cv2.warpAffine(img, cv2.getRotationMatrix2D((img.shape[1] / 2, img.shape[0] / 2), np.random.randint(-30, 30), 1), (img.shape[1], img.shape[0])),\n",
        "        lambda img: cv2.flip(img, 1),\n",
        "        lambda img: cv2.multiply(img, np.array([np.random.uniform(0.5, 1.5)])),\n",
        "        lambda img: cv2.warpAffine(img, np.float32([[1, 0, np.random.randint(-50, 50)], [0, 1, np.random.randint(-50, 50)]]), (img.shape[1], img.shape[0]))\n",
        "      ]\n",
        "\n",
        "      random.shuffle(augmentation_functions)\n",
        "      for i in range(3):\n",
        "          img = augmentation_functions[i](img)\n",
        "\n",
        "      return img\n",
        "\n",
        "    def _inner_function2(img_loc, label):\n",
        "        img_loc_str = img_loc.numpy().decode('utf-8')\n",
        "        # Load image using PIL and convert to RGB\n",
        "        img = Image.open(img_loc_str).convert('RGB')\n",
        "        # Convert PIL image to numpy array\n",
        "        img = np.array(img)\n",
        "\n",
        "        img = _augment_image(img)\n",
        "\n",
        "        img = tf.image.resize(img, [299, 299])\n",
        "        img = img / 255.0\n",
        "        label = 1 if label.numpy().decode('utf-8') == 'frost' else 0\n",
        "\n",
        "        return img, label\n",
        "\n",
        "    # Wrap the python function\n",
        "    X, y = tf.py_function(_inner_function2, [img_loc, label], [tf.float32, tf.int64])\n",
        "    # Set the shape of the tensors\n",
        "    X.set_shape([299, 299, 3])\n",
        "    y.set_shape([])\n",
        "    return X, y\n",
        "\n",
        "def load_and_preprocess(img_loc, label):\n",
        "\n",
        "    def _inner_function(img_loc, label):\n",
        "        img_loc_str = img_loc.numpy().decode('utf-8')\n",
        "        # Load image using PIL and convert to RGB\n",
        "        img = Image.open(img_loc_str).convert('RGB')\n",
        "        # Convert PIL image to numpy array\n",
        "        img = np.array(img)\n",
        "\n",
        "        #img = apply_augmentations(img)\n",
        "\n",
        "        img = tf.image.resize(img, [299, 299])\n",
        "        # Normalize the image to the [0, 1] range\n",
        "        img = img / 255.0\n",
        "        # Convert label to integer (assuming binary classification)\n",
        "        label = 1 if label.numpy().decode('utf-8') == 'frost' else 0\n",
        "\n",
        "        return img, label\n",
        "\n",
        "    # Wrap the python function\n",
        "    X, y = tf.py_function(_inner_function, [img_loc, label], [tf.float32, tf.int64])\n",
        "    # Set the shape of the tensors\n",
        "    X.set_shape([299, 299, 3])\n",
        "    y.set_shape([])\n",
        "    return X, y\n",
        "\n",
        "def load_subdir_data(dir_path, image_size, seed=None):\n",
        "\n",
        "    \"\"\"Helper to create a TF dataset from each image subdirectory\"\"\"\n",
        "\n",
        "    # Grab only the classes that (1) we want to keep and (2) exist in this directory\n",
        "    tile_dir = dir_path / Path('tiles')\n",
        "    label_dir = dir_path /Path('labels')\n",
        "\n",
        "    loc_list = []\n",
        "\n",
        "    for folder in os.listdir(tile_dir):\n",
        "        if os.path.isdir(os.path.join(tile_dir, folder)):\n",
        "            for file in os.listdir(os.path.join(tile_dir, folder)):\n",
        "                if file.endswith(\".png\"):\n",
        "                    loc_list.append((os.path.join(os.path.join(tile_dir, folder), file), folder))\n",
        "\n",
        "    return loc_list\n",
        "\n",
        "# Loop over all subframes, loading each into a list\n",
        "tf_data_train, tf_data_test, tf_data_val = [], [], []\n",
        "tf_dataset_train, tf_dataset_test, tf_dataset_val = [], [], []\n",
        "\n",
        "# Update the batch and buffer size as per your model requirements\n",
        "buffer_size = 64\n",
        "batch_size = 32\n",
        "\n",
        "for subdir, split in zip(subdirs, subdir_splits):\n",
        "    full_path = data_head_dir / subdir\n",
        "    if split=='validate':\n",
        "        tf_data_val.extend(load_subdir_data(full_path, IMAGE_SIZE, SEED))\n",
        "    elif split=='train':\n",
        "        tf_data_train.extend(load_subdir_data(full_path, IMAGE_SIZE, SEED))\n",
        "    elif split=='test':\n",
        "        tf_data_test.extend(load_subdir_data(full_path, IMAGE_SIZE, SEED))\n",
        "\n",
        "random.shuffle(tf_data_train)\n",
        "img_list, label_list = zip(*tf_data_train)\n",
        "img_list_t = tf.convert_to_tensor(img_list)\n",
        "lb_list_t_train = tf.convert_to_tensor(label_list)\n",
        "\n",
        "# tf_dataset_train = tf.data.Dataset.from_tensor_slices((img_list_t, lb_list_t))\n",
        "# tf_dataset_train = tf_dataset_train.map(load_and_preprocess, num_parallel_calls=tf.data.experimental.AUTOTUNE)\n",
        "# tf_dataset_train = tf_dataset_train.shuffle(buffer_size=buffer_size).batch(batch_size)\n",
        "tf_dataset_train2 = tf.data.Dataset.from_tensor_slices((img_list_t, lb_list_t_train))\n",
        "tf_dataset_train = tf_dataset_train2.map(load_and_preprocess, num_parallel_calls=tf.data.experimental.AUTOTUNE)\n",
        "tf_dataset_train_augmented = tf_dataset_train2.map(load_and_preprocess2, num_parallel_calls=tf.data.experimental.AUTOTUNE)\n",
        "\n",
        "# augmented_size = sum(1 for _ in tf_dataset_train_augmented)\n",
        "\n",
        "# # Calculate the number of elements to select (33% of the augmented dataset)\n",
        "# desired_augmented_size = int(augmented_size * 0.33)\n",
        "# print(\"desired_augmented_size\", desired_augmented_size)\n",
        "\n",
        "tf_dataset_train_combined = tf_dataset_train.concatenate(tf_dataset_train_augmented.take(5585))\n",
        "tf.print(len(tf_dataset_train_combined))\n",
        "\n",
        "tf_dataset_train_combined = tf_dataset_train_combined.shuffle(buffer_size=buffer_size).batch(batch_size)\n",
        "\n",
        "########\n",
        "# original_dataset_size = sum(1 for _ in tf_dataset_train)\n",
        "\n",
        "# desired_augmented_size = int(original_dataset_size * 0.33)\n",
        "\n",
        "# # Calculate the total desired size of the combined dataset\n",
        "# total_desired_size = original_dataset_size + desired_augmented_size\n",
        "#######\n",
        "\n",
        "random.shuffle(tf_data_val)\n",
        "img_list, label_list = zip(*tf_data_val)\n",
        "img_list_t = tf.convert_to_tensor(img_list)\n",
        "lb_list_t_val = tf.convert_to_tensor(label_list)\n",
        "\n",
        "tf_dataset_val = tf.data.Dataset.from_tensor_slices((img_list_t, lb_list_t_val))\n",
        "tf_dataset_val = tf_dataset_val.map(load_and_preprocess, num_parallel_calls=tf.data.experimental.AUTOTUNE)\n",
        "tf_dataset_val = tf_dataset_val.shuffle(buffer_size=buffer_size).batch(batch_size)\n",
        "\n",
        "random.shuffle(tf_data_test)\n",
        "img_list, label_list = zip(*tf_data_test)\n",
        "img_list_t = tf.convert_to_tensor(img_list)\n",
        "lb_list_t_test = tf.convert_to_tensor(label_list)\n",
        "\n",
        "tf_dataset_test = tf.data.Dataset.from_tensor_slices((img_list_t, lb_list_t_test))\n",
        "tf_dataset_test = tf_dataset_test.map(load_and_preprocess, num_parallel_calls=tf.data.experimental.AUTOTUNE)\n",
        "tf_dataset_test = tf_dataset_test.shuffle(buffer_size=buffer_size).batch(batch_size)\n",
        "# print(\"original_dataset_size\", original_dataset_size)\n",
        "# print(\"desired_augmented_size\", desired_augmented_size)\n",
        "# print(\"total_desired_size\", total_desired_size)\n",
        "# # print(\"tf_dataset_train_final\", tf_dataset_train_final)"
      ]
    },
    {
      "cell_type": "code",
      "execution_count": null,
      "metadata": {
        "id": "www7w7h2ncLS"
      },
      "outputs": [],
      "source": [
        "# print(\"total_desired_size\", total_desired_size)\n",
        "# new_size = sum(1 for _ in tf_dataset_train_combined)\n",
        "# print(\"new size\", new_size)\n",
        "\n",
        "# tf.print(len(tf_dataset_train_combined))\n",
        "# # tf.print(len(tf_dataset_train))\n",
        "\n",
        "# tf.print(len(tf_dataset_test))\n",
        "\n",
        "# tf.print(len(tf_dataset_train_augmented))\n",
        "\n",
        "# # print(tf_dataset_train_combined.numpy())"
      ]
    },
    {
      "cell_type": "markdown",
      "metadata": {
        "id": "O1YYV6Ha5bJ1"
      },
      "source": [
        "1. (c) Training CNN + MLP"
      ]
    },
    {
      "cell_type": "code",
      "execution_count": null,
      "metadata": {
        "colab": {
          "base_uri": "https://localhost:8080/"
        },
        "id": "BKO6BMCwAydW",
        "outputId": "159391cf-6c2f-4f4a-a0db-efe64a1f0630"
      },
      "outputs": [
        {
          "name": "stdout",
          "output_type": "stream",
          "text": [
            "Model: \"sequential_9\"\n",
            "_________________________________________________________________\n",
            " Layer (type)                Output Shape              Param #   \n",
            "=================================================================\n",
            " conv2d (Conv2D)             (None, 297, 297, 16)      448       \n",
            "                                                                 \n",
            " max_pooling2d (MaxPooling2  (None, 148, 148, 16)      0         \n",
            " D)                                                              \n",
            "                                                                 \n",
            " batch_normalization_12 (Ba  (None, 148, 148, 16)      64        \n",
            " tchNormalization)                                               \n",
            "                                                                 \n",
            " conv2d_1 (Conv2D)           (None, 146, 146, 32)      4640      \n",
            "                                                                 \n",
            " max_pooling2d_1 (MaxPoolin  (None, 73, 73, 32)        0         \n",
            " g2D)                                                            \n",
            "                                                                 \n",
            " batch_normalization_13 (Ba  (None, 73, 73, 32)        128       \n",
            " tchNormalization)                                               \n",
            "                                                                 \n",
            " conv2d_2 (Conv2D)           (None, 71, 71, 64)        18496     \n",
            "                                                                 \n",
            " max_pooling2d_2 (MaxPoolin  (None, 35, 35, 64)        0         \n",
            " g2D)                                                            \n",
            "                                                                 \n",
            " batch_normalization_14 (Ba  (None, 35, 35, 64)        256       \n",
            " tchNormalization)                                               \n",
            "                                                                 \n",
            " flatten (Flatten)           (None, 78400)             0         \n",
            "                                                                 \n",
            " dense_18 (Dense)            (None, 64)                5017664   \n",
            "                                                                 \n",
            " dropout_13 (Dropout)        (None, 64)                0         \n",
            "                                                                 \n",
            " dense_19 (Dense)            (None, 2)                 130       \n",
            "                                                                 \n",
            "=================================================================\n",
            "Total params: 5041826 (19.23 MB)\n",
            "Trainable params: 5041602 (19.23 MB)\n",
            "Non-trainable params: 224 (896.00 Byte)\n",
            "_________________________________________________________________\n"
          ]
        }
      ],
      "source": [
        "model = Sequential()\n",
        "\n",
        "model.add(Conv2D(16, (3, 3), activation='relu', input_shape=(299, 299, 3)))\n",
        "model.add(MaxPooling2D((2, 2)))\n",
        "model.add(BatchNormalization())\n",
        "\n",
        "model.add(Conv2D(32, (3, 3), activation='relu', kernel_regularizer=l2(0.01)))\n",
        "model.add(MaxPooling2D((2, 2)))\n",
        "model.add(BatchNormalization())\n",
        "\n",
        "model.add(Conv2D(64, (3, 3), activation='relu', kernel_regularizer=l2(0.01)))\n",
        "model.add(MaxPooling2D((2, 2)))\n",
        "model.add(BatchNormalization())\n",
        "\n",
        "model.add(Flatten())\n",
        "\n",
        "model.add(Dense(64, activation='relu', kernel_regularizer=l2(0.1)))\n",
        "model.add(Dropout(0.3))\n",
        "model.add(Dense(2, activation='softmax'))\n",
        "\n",
        "model.compile(optimizer=Adam(0.0001), loss='sparse_categorical_crossentropy', metrics=['accuracy'])\n",
        "\n",
        "model.summary()\n"
      ]
    },
    {
      "cell_type": "code",
      "execution_count": null,
      "metadata": {
        "colab": {
          "base_uri": "https://localhost:8080/"
        },
        "id": "2HlQ4skDBH6K",
        "outputId": "65cc6774-513a-44d4-ce21-9f56bda0d85b"
      },
      "outputs": [
        {
          "name": "stdout",
          "output_type": "stream",
          "text": [
            "Epoch 1/30\n",
            "704/704 [==============================] - 122s 167ms/step - loss: 6.7667 - accuracy: 0.7682 - val_loss: 3.3383 - val_accuracy: 0.7068\n",
            "Epoch 2/30\n",
            "704/704 [==============================] - 116s 164ms/step - loss: 2.2675 - accuracy: 0.8171 - val_loss: 1.4907 - val_accuracy: 0.9074\n",
            "Epoch 3/30\n",
            "704/704 [==============================] - 121s 171ms/step - loss: 1.4929 - accuracy: 0.8423 - val_loss: 1.1921 - val_accuracy: 0.9328\n",
            "Epoch 4/30\n",
            "704/704 [==============================] - 120s 171ms/step - loss: 1.2974 - accuracy: 0.8570 - val_loss: 1.2806 - val_accuracy: 0.8104\n",
            "Epoch 5/30\n",
            "704/704 [==============================] - 119s 169ms/step - loss: 1.2036 - accuracy: 0.8673 - val_loss: 1.4427 - val_accuracy: 0.7329\n",
            "Epoch 6/30\n",
            "704/704 [==============================] - 115s 162ms/step - loss: 1.1477 - accuracy: 0.8766 - val_loss: 1.2991 - val_accuracy: 0.7832\n",
            "Epoch 7/30\n",
            "704/704 [==============================] - 114s 162ms/step - loss: 1.0615 - accuracy: 0.8870 - val_loss: 1.7770 - val_accuracy: 0.7561\n",
            "Epoch 8/30\n",
            "704/704 [==============================] - 113s 161ms/step - loss: 1.0404 - accuracy: 0.8877 - val_loss: 1.7370 - val_accuracy: 0.6013\n",
            "Epoch 9/30\n",
            "704/704 [==============================] - 112s 159ms/step - loss: 0.9824 - accuracy: 0.8982 - val_loss: 1.4921 - val_accuracy: 0.7937\n",
            "Epoch 10/30\n",
            "704/704 [==============================] - 111s 158ms/step - loss: 0.9609 - accuracy: 0.9032 - val_loss: 1.6784 - val_accuracy: 0.6936\n",
            "Epoch 11/30\n",
            "704/704 [==============================] - 113s 160ms/step - loss: 0.9146 - accuracy: 0.9089 - val_loss: 1.5205 - val_accuracy: 0.7057\n",
            "Epoch 12/30\n",
            "704/704 [==============================] - 112s 159ms/step - loss: 0.8551 - accuracy: 0.9153 - val_loss: 1.3154 - val_accuracy: 0.7921\n",
            "Epoch 13/30\n",
            "704/704 [==============================] - 111s 158ms/step - loss: 0.8170 - accuracy: 0.9200 - val_loss: 1.2448 - val_accuracy: 0.7968\n",
            "Epoch 14/30\n",
            "704/704 [==============================] - 113s 160ms/step - loss: 0.8026 - accuracy: 0.9230 - val_loss: 0.8994 - val_accuracy: 0.9410\n",
            "Epoch 15/30\n",
            "704/704 [==============================] - 112s 158ms/step - loss: 0.7621 - accuracy: 0.9291 - val_loss: 0.9007 - val_accuracy: 0.9042\n",
            "Epoch 16/30\n",
            "704/704 [==============================] - 111s 158ms/step - loss: 0.7299 - accuracy: 0.9315 - val_loss: 1.0359 - val_accuracy: 0.8687\n",
            "Epoch 17/30\n",
            "704/704 [==============================] - 114s 161ms/step - loss: 0.7241 - accuracy: 0.9303 - val_loss: 0.9124 - val_accuracy: 0.8886\n",
            "Epoch 18/30\n",
            "704/704 [==============================] - 117s 166ms/step - loss: 0.7015 - accuracy: 0.9326 - val_loss: 0.9613 - val_accuracy: 0.8899\n",
            "Epoch 19/30\n",
            "704/704 [==============================] - 120s 170ms/step - loss: 0.6599 - accuracy: 0.9410 - val_loss: 1.5342 - val_accuracy: 0.6998\n",
            "Epoch 20/30\n",
            "704/704 [==============================] - 120s 170ms/step - loss: 0.6283 - accuracy: 0.9432 - val_loss: 0.7147 - val_accuracy: 0.9650\n",
            "Epoch 21/30\n",
            "704/704 [==============================] - 118s 168ms/step - loss: 0.6147 - accuracy: 0.9446 - val_loss: 0.7655 - val_accuracy: 0.9398\n",
            "Epoch 22/30\n",
            "704/704 [==============================] - 116s 164ms/step - loss: 0.6017 - accuracy: 0.9470 - val_loss: 0.8717 - val_accuracy: 0.8961\n",
            "Epoch 23/30\n",
            "704/704 [==============================] - 116s 164ms/step - loss: 0.5725 - accuracy: 0.9512 - val_loss: 0.9715 - val_accuracy: 0.9112\n",
            "Epoch 24/30\n",
            "704/704 [==============================] - 114s 162ms/step - loss: 0.5560 - accuracy: 0.9518 - val_loss: 0.7071 - val_accuracy: 0.9719\n",
            "Epoch 25/30\n",
            "704/704 [==============================] - 114s 161ms/step - loss: 0.5692 - accuracy: 0.9474 - val_loss: 0.8383 - val_accuracy: 0.8946\n",
            "Epoch 26/30\n",
            "704/704 [==============================] - 114s 161ms/step - loss: 0.5304 - accuracy: 0.9543 - val_loss: 0.8710 - val_accuracy: 0.9022\n",
            "Epoch 27/30\n",
            "704/704 [==============================] - 114s 162ms/step - loss: 0.5206 - accuracy: 0.9530 - val_loss: 1.1664 - val_accuracy: 0.8400\n",
            "Epoch 28/30\n",
            "704/704 [==============================] - 114s 161ms/step - loss: 0.5013 - accuracy: 0.9554 - val_loss: 0.6893 - val_accuracy: 0.9286\n",
            "Epoch 29/30\n",
            "704/704 [==============================] - 115s 162ms/step - loss: 0.4988 - accuracy: 0.9552 - val_loss: 0.6032 - val_accuracy: 0.9859\n",
            "Epoch 30/30\n",
            "704/704 [==============================] - 113s 161ms/step - loss: 0.4641 - accuracy: 0.9591 - val_loss: 0.5630 - val_accuracy: 0.9891\n"
          ]
        }
      ],
      "source": [
        "early_stop = EarlyStopping(monitor='val_loss', patience=20, restore_best_weights=True)\n",
        "\n",
        "history = model.fit(tf_dataset_train_combined, epochs=30, validation_data=(tf_dataset_val), callbacks=[early_stop], verbose=1)\n"
      ]
    },
    {
      "cell_type": "markdown",
      "metadata": {
        "id": "XVNScwE95zL1"
      },
      "source": [
        "## Results for CNN + MLP\n"
      ]
    },
    {
      "cell_type": "markdown",
      "metadata": {
        "id": "3nq8-9Iv59dh"
      },
      "source": [
        "1. (c) ii. Plot the training and validation errors vs. epochs."
      ]
    },
    {
      "cell_type": "code",
      "execution_count": null,
      "metadata": {
        "colab": {
          "base_uri": "https://localhost:8080/",
          "height": 451
        },
        "id": "xa-1qkaNELft",
        "outputId": "d8672d3d-a660-4ce8-cf6c-c887cbe01ef7"
      },
      "outputs": [
        {
          "data": {
            "image/png": "[encoded data removed]",
            "text/plain": [
              "<Figure size 640x480 with 1 Axes>"
            ]
          },
          "metadata": {},
          "output_type": "display_data"
        }
      ],
      "source": [
        "plt.plot(history.history['loss'], label='Training Loss')\n",
        "plt.plot(history.history['val_loss'], label='Validation Loss')\n",
        "plt.xlabel('Epochs')\n",
        "plt.ylabel('Loss')\n",
        "plt.legend()\n",
        "plt.show()"
      ]
    },
    {
      "cell_type": "code",
      "execution_count": null,
      "metadata": {
        "colab": {
          "base_uri": "https://localhost:8080/"
        },
        "id": "3hinMayyYfhm",
        "outputId": "269278c9-cb3b-455a-eef4-2b35a4d6134a"
      },
      "outputs": [
        {
          "name": "stdout",
          "output_type": "stream",
          "text": [
            "230/230 [==============================] - 25s 108ms/step - loss: 0.8181 - accuracy: 0.8620\n",
            "Test Loss: 0.8180822730064392\n",
            "Test Accuracy: 0.8620408177375793\n"
          ]
        }
      ],
      "source": [
        "test_results = model.evaluate(tf_dataset_test)\n",
        "print(\"Test Loss:\", test_results[0])\n",
        "print(\"Test Accuracy:\", test_results[1])\n"
      ]
    },
    {
      "cell_type": "markdown",
      "metadata": {
        "id": "T7u1LcQw6bWp"
      },
      "source": [
        "F1, precision, recall for Test set\n"
      ]
    },
    {
      "cell_type": "code",
      "execution_count": null,
      "metadata": {
        "colab": {
          "base_uri": "https://localhost:8080/"
        },
        "id": "04x7eU9DfVBK",
        "outputId": "5885b716-30ee-4d5f-8149-660653c8684c"
      },
      "outputs": [
        {
          "name": "stdout",
          "output_type": "stream",
          "text": [
            "230/230 [==============================] - 25s 106ms/step\n",
            "F1, precision, recall for Test set\n",
            "              precision    recall  f1-score   support\n",
            "\n",
            "           0       0.39      0.44      0.41      2835\n",
            "           1       0.62      0.56      0.59      4515\n",
            "\n",
            "    accuracy                           0.51      7350\n",
            "   macro avg       0.50      0.50      0.50      7350\n",
            "weighted avg       0.53      0.51      0.52      7350\n",
            "\n"
          ]
        }
      ],
      "source": [
        "y_pred = model.predict(tf_dataset_test)\n",
        "# y_true = tf.concat([y for _, y in tf_dataset_test], axis=0)\n",
        "y_pred_classes = tf.argmax(y_pred, axis=1).numpy()\n",
        "y_pred_classes_flat = y_pred_classes.flatten()\n",
        "\n",
        "\n",
        "true_labels = []\n",
        "for images, labels in tf_dataset_test.unbatch():\n",
        "    true_labels.append(labels.numpy())\n",
        "\n",
        "true_labels = np.array(true_labels)\n",
        "true_labels_flat = true_labels.flatten()\n",
        "\n",
        "report = classification_report(true_labels_flat, y_pred_classes_flat)\n",
        "print(\"F1, precision, recall for Test set\")\n",
        "print(report)"
      ]
    },
    {
      "cell_type": "markdown",
      "metadata": {
        "id": "TZzJ3rOw62sA"
      },
      "source": [
        "F1, precision, recall for Train set\n"
      ]
    },
    {
      "cell_type": "code",
      "execution_count": null,
      "metadata": {
        "colab": {
          "base_uri": "https://localhost:8080/"
        },
        "id": "vvifqa0q27ar",
        "outputId": "4e6b1882-0dbf-44cb-db64-e33ad5805294"
      },
      "outputs": [
        {
          "name": "stdout",
          "output_type": "stream",
          "text": [
            "704/704 [==============================] - 78s 110ms/step\n",
            "F1, precision, recall for Training set\n",
            "              precision    recall  f1-score   support\n",
            "\n",
            "           0       0.39      0.63      0.48      8818\n",
            "           1       0.61      0.38      0.47     13692\n",
            "\n",
            "    accuracy                           0.48     22510\n",
            "   macro avg       0.50      0.50      0.48     22510\n",
            "weighted avg       0.53      0.48      0.47     22510\n",
            "\n"
          ]
        }
      ],
      "source": [
        "################ F1, precision, recall for Train set ####################\n",
        "y_pred = model.predict(tf_dataset_train_combined)\n",
        "# y_true = tf.concat([y for _, y in tf_dataset_test], axis=0)\n",
        "y_pred_classes = tf.argmax(y_pred, axis=1).numpy()\n",
        "y_pred_classes_flat = y_pred_classes.flatten()\n",
        "\n",
        "true_labels = []\n",
        "for images, labels in tf_dataset_train_combined.unbatch():\n",
        "    true_labels.append(labels.numpy())\n",
        "\n",
        "true_labels = np.array(true_labels)\n",
        "true_labels_flat = true_labels.flatten()\n",
        "\n",
        "report = classification_report(true_labels_flat, y_pred_classes_flat)\n",
        "print(\"F1, precision, recall for Training set\")\n",
        "print(report)"
      ]
    },
    {
      "cell_type": "markdown",
      "metadata": {
        "id": "QeYJKDsJ65fE"
      },
      "source": [
        "F1, precision, recall for Validation set"
      ]
    },
    {
      "cell_type": "code",
      "execution_count": null,
      "metadata": {
        "colab": {
          "base_uri": "https://localhost:8080/"
        },
        "id": "eWc9AiUk3ZHZ",
        "outputId": "f8ca7e3a-97bc-48c0-c116-27bef1d9d76d"
      },
      "outputs": [
        {
          "name": "stdout",
          "output_type": "stream",
          "text": [
            "186/186 [==============================] - 20s 108ms/step\n",
            "F1, precision, recall for Validation set\n",
            "              precision    recall  f1-score   support\n",
            "\n",
            "           0       0.65      0.64      0.64      3890\n",
            "           1       0.33      0.33      0.33      2059\n",
            "\n",
            "    accuracy                           0.54      5949\n",
            "   macro avg       0.49      0.49      0.49      5949\n",
            "weighted avg       0.54      0.54      0.54      5949\n",
            "\n"
          ]
        }
      ],
      "source": [
        "################ F1, precision, recall for Validation set ####################\n",
        "y_pred = model.predict(tf_dataset_val)\n",
        "# y_true = tf.concat([y for _, y in tf_dataset_test], axis=0)\n",
        "y_pred_classes = tf.argmax(y_pred, axis=1).numpy()\n",
        "y_pred_classes_flat = y_pred_classes.flatten()\n",
        "\n",
        "true_labels = []\n",
        "for images, labels in tf_dataset_val.unbatch():\n",
        "    true_labels.append(labels.numpy())\n",
        "\n",
        "true_labels = np.array(true_labels)\n",
        "true_labels_flat = true_labels.flatten()\n",
        "\n",
        "report = classification_report(true_labels_flat, y_pred_classes_flat)\n",
        "print(\"F1, precision, recall for Validation set\")\n",
        "print(report)"
      ]
    },
    {
      "cell_type": "markdown",
      "metadata": {
        "id": "nnCxzhIW8Oqb"
      },
      "source": [
        "1. (d) Transfer learning\n"
      ]
    },
    {
      "cell_type": "markdown",
      "metadata": {
        "id": "FGwb80tN7Fp8"
      },
      "source": [
        "I am using the same augmented dataset which I used for CNN+MLP. The batch size remains as 64."
      ]
    },
    {
      "cell_type": "markdown",
      "metadata": {
        "id": "r65XM6fC7Z1A"
      },
      "source": [
        "A. EfficientNetB0"
      ]
    },
    {
      "cell_type": "code",
      "execution_count": null,
      "metadata": {
        "colab": {
          "base_uri": "https://localhost:8080/"
        },
        "id": "3fEoy6aR8RWC",
        "outputId": "45c56d32-b20b-4286-b977-e8ce6c67f190"
      },
      "outputs": [
        {
          "name": "stdout",
          "output_type": "stream",
          "text": [
            "Model: \"sequential_5\"\n",
            "_________________________________________________________________\n",
            " Layer (type)                Output Shape              Param #   \n",
            "=================================================================\n",
            " efficientnetb0 (Functional  (None, 10, 10, 1280)      4049571   \n",
            " )                                                               \n",
            "                                                                 \n",
            " global_average_pooling2d_5  (None, 1280)              0         \n",
            "  (GlobalAveragePooling2D)                                       \n",
            "                                                                 \n",
            " dense_10 (Dense)            (None, 256)               327936    \n",
            "                                                                 \n",
            " batch_normalization_5 (Bat  (None, 256)               1024      \n",
            " chNormalization)                                                \n",
            "                                                                 \n",
            " dropout_5 (Dropout)         (None, 256)               0         \n",
            "                                                                 \n",
            " dense_11 (Dense)            (None, 2)                 514       \n",
            "                                                                 \n",
            "=================================================================\n",
            "Total params: 4379045 (16.70 MB)\n",
            "Trainable params: 328962 (1.25 MB)\n",
            "Non-trainable params: 4050083 (15.45 MB)\n",
            "_________________________________________________________________\n"
          ]
        }
      ],
      "source": [
        "\n",
        "base_model_efficientnet = EfficientNetB0(weights='imagenet', include_top=False, input_shape=(299, 299, 3))\n",
        "for layer in base_model_efficientnet.layers:\n",
        "    layer.trainable = False\n",
        "\n",
        "\n",
        "# model_efficientnet = Sequential([\n",
        "#     base_model_efficientnet,\n",
        "#     GlobalAveragePooling2D(),\n",
        "#     BatchNormalization(),\n",
        "#     # Dropout(0.3),\n",
        "#     Dense(512, activation='relu'),\n",
        "#     Dropout(0.3),\n",
        "#     Dense(2, activation='softmax')\n",
        "# ])\n",
        "\n",
        "model_efficientnet = Sequential([\n",
        "    base_model_efficientnet,\n",
        "    GlobalAveragePooling2D(),\n",
        "    # BatchNormalization(),\n",
        "    # Dropout(0.3),\n",
        "    Dense(256, activation='relu'),\n",
        "    BatchNormalization(),\n",
        "    Dropout(0.3),\n",
        "    Dense(2, activation='softmax')\n",
        "])\n",
        "\n",
        "model_efficientnet.summary()"
      ]
    },
    {
      "cell_type": "code",
      "execution_count": null,
      "metadata": {
        "colab": {
          "base_uri": "https://localhost:8080/"
        },
        "id": "qsL5QTUI_SW0",
        "outputId": "ed3f0192-3ebe-46d7-dfc1-154202eda5d3"
      },
      "outputs": [
        {
          "output_type": "stream",
          "name": "stdout",
          "text": [
            "Epoch 1/15\n",
            "704/704 [==============================] - 184s 252ms/step - loss: 0.6738 - accuracy: 0.6062 - val_loss: 0.7658 - val_accuracy: 0.3461\n",
            "Epoch 2/15\n",
            "704/704 [==============================] - 174s 247ms/step - loss: 0.6743 - accuracy: 0.6073 - val_loss: 0.7473 - val_accuracy: 0.3461\n",
            "Epoch 3/15\n",
            "704/704 [==============================] - 174s 247ms/step - loss: 0.6729 - accuracy: 0.6063 - val_loss: 0.7630 - val_accuracy: 0.3461\n",
            "Epoch 4/15\n",
            "704/704 [==============================] - 175s 248ms/step - loss: 0.6731 - accuracy: 0.6073 - val_loss: 0.7716 - val_accuracy: 0.3461\n",
            "Epoch 5/15\n",
            "704/704 [==============================] - 174s 248ms/step - loss: 0.6739 - accuracy: 0.6033 - val_loss: 0.7528 - val_accuracy: 0.3461\n",
            "Epoch 6/15\n",
            "704/704 [==============================] - 175s 248ms/step - loss: 0.6729 - accuracy: 0.6069 - val_loss: 0.7573 - val_accuracy: 0.3461\n",
            "Epoch 7/15\n",
            "704/704 [==============================] - 174s 247ms/step - loss: 0.6723 - accuracy: 0.6063 - val_loss: 0.7613 - val_accuracy: 0.3461\n",
            "Epoch 8/15\n",
            "704/704 [==============================] - 174s 247ms/step - loss: 0.6736 - accuracy: 0.6060 - val_loss: 0.7512 - val_accuracy: 0.3461\n",
            "Epoch 9/15\n",
            "704/704 [==============================] - 174s 247ms/step - loss: 0.6733 - accuracy: 0.6070 - val_loss: 0.7490 - val_accuracy: 0.3461\n",
            "Epoch 10/15\n",
            "704/704 [==============================] - 174s 247ms/step - loss: 0.6722 - accuracy: 0.6076 - val_loss: 0.7754 - val_accuracy: 0.3461\n",
            "Epoch 11/15\n",
            "704/704 [==============================] - 175s 248ms/step - loss: 0.6735 - accuracy: 0.6058 - val_loss: 0.7560 - val_accuracy: 0.3461\n",
            "Epoch 12/15\n",
            "704/704 [==============================] - 174s 247ms/step - loss: 0.6731 - accuracy: 0.6062 - val_loss: 0.7220 - val_accuracy: 0.3461\n",
            "Epoch 13/15\n",
            "704/704 [==============================] - 174s 247ms/step - loss: 0.6734 - accuracy: 0.6052 - val_loss: 0.7540 - val_accuracy: 0.3461\n",
            "Epoch 14/15\n",
            "704/704 [==============================] - 174s 247ms/step - loss: 0.6726 - accuracy: 0.6075 - val_loss: 0.7665 - val_accuracy: 0.3461\n",
            "Epoch 15/15\n",
            "704/704 [==============================] - 175s 248ms/step - loss: 0.6746 - accuracy: 0.6041 - val_loss: 0.7443 - val_accuracy: 0.3461\n"
          ]
        }
      ],
      "source": [
        "#barch_size = 8\n",
        "early_stop = EarlyStopping(monitor='val_loss', patience=10, restore_best_weights=True)\n",
        "\n",
        "model_efficientnet.compile(optimizer=Adam(0.01), loss='sparse_categorical_crossentropy', metrics=['accuracy'])\n",
        "# history = model.fit(tf_dataset_train_combined, epochs=25, validation_data=(tf_dataset_val), callbacks=[early_stop], verbose=1)\n",
        "\n",
        "history_efficientnet = model_efficientnet.fit(tf_dataset_train_combined,\n",
        "    epochs=15,\n",
        "    validation_data=tf_dataset_val,\n",
        "    callbacks=[early_stop])"
      ]
    },
    {
      "cell_type": "markdown",
      "metadata": {
        "id": "zeO7PB0q7dm7"
      },
      "source": [
        "Results for EfficientNetB0"
      ]
    },
    {
      "cell_type": "code",
      "execution_count": null,
      "metadata": {
        "colab": {
          "base_uri": "https://localhost:8080/",
          "height": 453
        },
        "id": "YagktbP6_Ue_",
        "outputId": "acb1fbcb-b7db-48b8-81d3-386abe702a19"
      },
      "outputs": [
        {
          "output_type": "display_data",
          "data": {
            "text/plain": [
              "<Figure size 640x480 with 1 Axes>"
            ],
            "image/png": "[encoded data removed]"
          },
          "metadata": {}
        }
      ],
      "source": [
        "import matplotlib.pyplot as plt\n",
        "\n",
        "plt.plot(history_efficientnet.history['loss'], label='Training Loss')\n",
        "plt.plot(history_efficientnet.history['val_loss'], label='Validation Loss')\n",
        "plt.xlabel('Epochs')\n",
        "plt.ylabel('Loss')\n",
        "plt.legend()\n",
        "plt.show()"
      ]
    },
    {
      "cell_type": "code",
      "execution_count": null,
      "metadata": {
        "id": "FtQHM1B5yW9S"
      },
      "outputs": [],
      "source": []
    },
    {
      "cell_type": "code",
      "execution_count": null,
      "metadata": {
        "colab": {
          "base_uri": "https://localhost:8080/"
        },
        "id": "42nU5e9gyYCX",
        "outputId": "d724e659-8c43-4bfe-8883-be1cbc5c46bc"
      },
      "outputs": [
        {
          "output_type": "stream",
          "name": "stdout",
          "text": [
            "230/230 [==============================] - 44s 190ms/step - loss: 0.6712 - accuracy: 0.6143\n",
            "Test Loss: 0.6711567044258118\n",
            "Test Accuracy: 0.6142857074737549\n"
          ]
        }
      ],
      "source": [
        "test_results_EN = model_efficientnet.evaluate(tf_dataset_test)\n",
        "print(\"Test Loss:\", test_results_EN[0])\n",
        "print(\"Test Accuracy:\", test_results_EN[1])\n"
      ]
    },
    {
      "cell_type": "markdown",
      "metadata": {
        "id": "GF75BwL38EvX"
      },
      "source": [
        "F1 score, precision and recall for Testing data"
      ]
    },
    {
      "cell_type": "code",
      "execution_count": null,
      "metadata": {
        "colab": {
          "base_uri": "https://localhost:8080/"
        },
        "id": "VDkDXvTo9ww6",
        "outputId": "16b886ac-e717-451b-a7d3-7bfb1a704aca"
      },
      "outputs": [
        {
          "output_type": "stream",
          "name": "stdout",
          "text": [
            "230/230 [==============================] - 45s 188ms/step\n",
            "F1 score, precision and recall for Testing data\n",
            "              precision    recall  f1-score   support\n",
            "\n",
            "           0       0.00      0.00      0.00      2835\n",
            "           1       0.61      1.00      0.76      4515\n",
            "\n",
            "    accuracy                           0.61      7350\n",
            "   macro avg       0.31      0.50      0.38      7350\n",
            "weighted avg       0.38      0.61      0.47      7350\n",
            "\n"
          ]
        },
        {
          "output_type": "stream",
          "name": "stderr",
          "text": [
            "/usr/local/lib/python3.10/dist-packages/sklearn/metrics/_classification.py:1344: UndefinedMetricWarning: Precision and F-score are ill-defined and being set to 0.0 in labels with no predicted samples. Use `zero_division` parameter to control this behavior.\n",
            "  _warn_prf(average, modifier, msg_start, len(result))\n",
            "/usr/local/lib/python3.10/dist-packages/sklearn/metrics/_classification.py:1344: UndefinedMetricWarning: Precision and F-score are ill-defined and being set to 0.0 in labels with no predicted samples. Use `zero_division` parameter to control this behavior.\n",
            "  _warn_prf(average, modifier, msg_start, len(result))\n",
            "/usr/local/lib/python3.10/dist-packages/sklearn/metrics/_classification.py:1344: UndefinedMetricWarning: Precision and F-score are ill-defined and being set to 0.0 in labels with no predicted samples. Use `zero_division` parameter to control this behavior.\n",
            "  _warn_prf(average, modifier, msg_start, len(result))\n"
          ]
        }
      ],
      "source": [
        "from sklearn.metrics import classification_report\n",
        "from sklearn.metrics import precision_score, recall_score, f1_score\n",
        "\n",
        "\n",
        "y_pred_EN = model_efficientnet.predict(tf_dataset_test)\n",
        "y_pred_EN_classes = np.argmax(y_pred_EN, axis=1)\n",
        "\n",
        "# y_pred_EN_classes = tf.argmax(y_pred_EN, axis=1).numpy()\n",
        "y_pred_EN_classes_flat = y_pred_EN_classes.flatten()\n",
        "\n",
        "true_labels_EN = []\n",
        "# for images, labels in tf_dataset_test.unbatch():\n",
        "#     true_labels_EN.append(labels.numpy())\n",
        "\n",
        "true_labels_EN = np.concatenate([y for x, y in tf_dataset_test.unbatch().batch(batch_size)], axis=0)\n",
        "\n",
        "\n",
        "# true_labels_EN = np.array(true_labels_EN)\n",
        "true_labels_EN_flat = true_labels_EN.flatten()\n",
        "\n",
        "report_EN = classification_report(true_labels_EN_flat, y_pred_EN_classes_flat)\n",
        "print(\"F1 score, precision and recall for Testing data\")\n",
        "print(report_EN)\n",
        "# print(true_labels_EN)\n",
        "\n",
        "# y_true = tf.concat([y for _, y in tf_dataset_test], axis=0)\n",
        "\n",
        "# Convert probabilities to class predictions"
      ]
    },
    {
      "cell_type": "markdown",
      "metadata": {
        "id": "K5aXg_XQ8GQC"
      },
      "source": [
        "F1 score, precision and recall for Training data"
      ]
    },
    {
      "cell_type": "code",
      "execution_count": null,
      "metadata": {
        "colab": {
          "base_uri": "https://localhost:8080/"
        },
        "id": "vUEal1gp-iJd",
        "outputId": "12a5ea9c-ef5a-4c20-e3ec-b7819a93699c"
      },
      "outputs": [
        {
          "output_type": "stream",
          "name": "stdout",
          "text": [
            "704/704 [==============================] - 137s 194ms/step\n",
            "F1 score, precision and recall for Training data\n",
            "              precision    recall  f1-score   support\n",
            "\n",
            "           0       0.00      0.00      0.00      8821\n",
            "           1       0.61      1.00      0.76     13689\n",
            "\n",
            "    accuracy                           0.61     22510\n",
            "   macro avg       0.30      0.50      0.38     22510\n",
            "weighted avg       0.37      0.61      0.46     22510\n",
            "\n"
          ]
        },
        {
          "output_type": "stream",
          "name": "stderr",
          "text": [
            "/usr/local/lib/python3.10/dist-packages/sklearn/metrics/_classification.py:1344: UndefinedMetricWarning: Precision and F-score are ill-defined and being set to 0.0 in labels with no predicted samples. Use `zero_division` parameter to control this behavior.\n",
            "  _warn_prf(average, modifier, msg_start, len(result))\n",
            "/usr/local/lib/python3.10/dist-packages/sklearn/metrics/_classification.py:1344: UndefinedMetricWarning: Precision and F-score are ill-defined and being set to 0.0 in labels with no predicted samples. Use `zero_division` parameter to control this behavior.\n",
            "  _warn_prf(average, modifier, msg_start, len(result))\n",
            "/usr/local/lib/python3.10/dist-packages/sklearn/metrics/_classification.py:1344: UndefinedMetricWarning: Precision and F-score are ill-defined and being set to 0.0 in labels with no predicted samples. Use `zero_division` parameter to control this behavior.\n",
            "  _warn_prf(average, modifier, msg_start, len(result))\n"
          ]
        }
      ],
      "source": [
        "\n",
        "y_pred_EN = model_efficientnet.predict(tf_dataset_train_combined)\n",
        "y_pred_EN_classes = np.argmax(y_pred_EN, axis=1)\n",
        "\n",
        "# y_pred_EN_classes = tf.argmax(y_pred_EN, axis=1).numpy()\n",
        "y_pred_EN_classes_flat = y_pred_EN_classes.flatten()\n",
        "\n",
        "true_labels_EN = []\n",
        "# for images, labels in tf_dataset_test.unbatch():\n",
        "#     true_labels_EN.append(labels.numpy())\n",
        "\n",
        "true_labels_EN = np.concatenate([y for x, y in tf_dataset_train_combined.unbatch().batch(batch_size)], axis=0)\n",
        "\n",
        "\n",
        "# true_labels_EN = np.array(true_labels_EN)\n",
        "true_labels_EN_flat = true_labels_EN.flatten()\n",
        "\n",
        "report_EN = classification_report(true_labels_EN_flat, y_pred_EN_classes_flat)\n",
        "print(\"F1 score, precision and recall for Training data\")\n",
        "print(report_EN)\n",
        "# print(true_labels_EN)\n",
        "\n",
        "# precision, recall, f1, _ = precision_recall_fscore_support(true_labels_EN_flat, y_pred_EN_classes_flat, average='macro')\n",
        "\n",
        "# y_true = tf.concat([y for _, y in tf_dataset_test], axis=0)\n",
        "\n",
        "# Convert probabilities to class predictions"
      ]
    },
    {
      "cell_type": "markdown",
      "metadata": {
        "id": "i_H9iupY8K8x"
      },
      "source": [
        "F1 score, precision and recall for Validation data"
      ]
    },
    {
      "cell_type": "code",
      "execution_count": null,
      "metadata": {
        "colab": {
          "base_uri": "https://localhost:8080/"
        },
        "id": "SjGzMRJbOEKq",
        "outputId": "41340159-4d46-4688-9826-2a1812b07a96"
      },
      "outputs": [
        {
          "output_type": "stream",
          "name": "stdout",
          "text": [
            "186/186 [==============================] - 35s 187ms/step\n",
            "F1 score, precision and recall for Validation data\n",
            "              precision    recall  f1-score   support\n",
            "\n",
            "           0       0.00      0.00      0.00      3890\n",
            "           1       0.35      1.00      0.51      2059\n",
            "\n",
            "    accuracy                           0.35      5949\n",
            "   macro avg       0.17      0.50      0.26      5949\n",
            "weighted avg       0.12      0.35      0.18      5949\n",
            "\n"
          ]
        },
        {
          "output_type": "stream",
          "name": "stderr",
          "text": [
            "/usr/local/lib/python3.10/dist-packages/sklearn/metrics/_classification.py:1344: UndefinedMetricWarning: Precision and F-score are ill-defined and being set to 0.0 in labels with no predicted samples. Use `zero_division` parameter to control this behavior.\n",
            "  _warn_prf(average, modifier, msg_start, len(result))\n",
            "/usr/local/lib/python3.10/dist-packages/sklearn/metrics/_classification.py:1344: UndefinedMetricWarning: Precision and F-score are ill-defined and being set to 0.0 in labels with no predicted samples. Use `zero_division` parameter to control this behavior.\n",
            "  _warn_prf(average, modifier, msg_start, len(result))\n",
            "/usr/local/lib/python3.10/dist-packages/sklearn/metrics/_classification.py:1344: UndefinedMetricWarning: Precision and F-score are ill-defined and being set to 0.0 in labels with no predicted samples. Use `zero_division` parameter to control this behavior.\n",
            "  _warn_prf(average, modifier, msg_start, len(result))\n"
          ]
        }
      ],
      "source": [
        "\n",
        "y_pred_EN = model_efficientnet.predict(tf_dataset_val)\n",
        "y_pred_EN_classes = np.argmax(y_pred_EN, axis=1)\n",
        "\n",
        "y_pred_EN_classes_flat = y_pred_EN_classes.flatten()\n",
        "\n",
        "true_labels_EN = []\n",
        "true_labels_EN = np.concatenate([y for x, y in tf_dataset_val.unbatch().batch(batch_size)], axis=0)\n",
        "true_labels_EN_flat = true_labels_EN.flatten()\n",
        "\n",
        "report_EN = classification_report(true_labels_EN_flat, y_pred_EN_classes_flat)\n",
        "print(\"F1 score, precision and recall for Validation data\")\n",
        "print(report_EN)\n"
      ]
    },
    {
      "cell_type": "markdown",
      "metadata": {
        "id": "-kc8XDIH8Ufx"
      },
      "source": [
        "B. ResNet50"
      ]
    },
    {
      "cell_type": "code",
      "execution_count": null,
      "metadata": {
        "id": "t79BL0d_RNWz"
      },
      "outputs": [],
      "source": [
        "base_model_resnet = ResNet50(weights='imagenet', include_top=False)\n",
        "for layer in base_model_resnet.layers:\n",
        "    layer.trainable = False\n",
        "\n",
        "\n",
        "# model_efficientnet = Sequential([\n",
        "#     base_model_efficientnet,\n",
        "#     GlobalAveragePooling2D(),\n",
        "#     BatchNormalization(),\n",
        "#     # Dropout(0.3),\n",
        "#     Dense(512, activation='relu'),\n",
        "#     BatchNormalization(),\n",
        "#     Dropout(0.3),\n",
        "#     Dense(2, activation='softmax')\n",
        "# ])\n",
        "\n",
        "model_resnet = Sequential([\n",
        "    base_model_resnet,\n",
        "    GlobalAveragePooling2D(),\n",
        "    # BatchNormalization(),\n",
        "    Dense(256, activation='relu'),\n",
        "    BatchNormalization(),\n",
        "    Dropout(0.3),\n",
        "    Dense(2, activation='softmax')\n",
        "])\n",
        "\n"
      ]
    },
    {
      "cell_type": "code",
      "execution_count": null,
      "metadata": {
        "id": "bU2Jc5BOTGPT",
        "colab": {
          "base_uri": "https://localhost:8080/"
        },
        "outputId": "26935312-1d72-4a10-b62c-ed59055ac64a"
      },
      "outputs": [
        {
          "output_type": "stream",
          "name": "stdout",
          "text": [
            "Epoch 1/15\n",
            "704/704 [==============================] - 227s 318ms/step - loss: 0.5477 - accuracy: 0.7637 - val_loss: 1.1792 - val_accuracy: 0.7073\n",
            "Epoch 2/15\n",
            "704/704 [==============================] - 225s 319ms/step - loss: 0.4929 - accuracy: 0.7841 - val_loss: 2.3288 - val_accuracy: 0.3461\n",
            "Epoch 3/15\n",
            "704/704 [==============================] - 225s 319ms/step - loss: 0.5511 - accuracy: 0.7743 - val_loss: 6.1145 - val_accuracy: 0.3461\n",
            "Epoch 4/15\n",
            "704/704 [==============================] - 225s 319ms/step - loss: 0.5144 - accuracy: 0.7873 - val_loss: 6.1063 - val_accuracy: 0.6539\n",
            "Epoch 5/15\n",
            "704/704 [==============================] - 225s 320ms/step - loss: 0.4777 - accuracy: 0.7928 - val_loss: 5.6139 - val_accuracy: 0.3461\n",
            "Epoch 6/15\n",
            "704/704 [==============================] - 226s 320ms/step - loss: 0.4644 - accuracy: 0.8006 - val_loss: 0.3110 - val_accuracy: 0.8496\n",
            "Epoch 7/15\n",
            "704/704 [==============================] - 225s 320ms/step - loss: 0.4701 - accuracy: 0.8023 - val_loss: 2.8376 - val_accuracy: 0.3461\n",
            "Epoch 8/15\n",
            "704/704 [==============================] - 226s 321ms/step - loss: 0.4839 - accuracy: 0.8007 - val_loss: 8.1839 - val_accuracy: 0.3461\n",
            "Epoch 9/15\n",
            "704/704 [==============================] - 225s 319ms/step - loss: 0.5103 - accuracy: 0.7987 - val_loss: 0.3221 - val_accuracy: 0.8238\n",
            "Epoch 10/15\n",
            "704/704 [==============================] - 224s 319ms/step - loss: 0.4668 - accuracy: 0.8071 - val_loss: 0.2946 - val_accuracy: 0.9117\n",
            "Epoch 11/15\n",
            "704/704 [==============================] - 224s 319ms/step - loss: 0.5043 - accuracy: 0.8012 - val_loss: 2.5333 - val_accuracy: 0.6554\n",
            "Epoch 12/15\n",
            "704/704 [==============================] - 226s 320ms/step - loss: 0.4265 - accuracy: 0.8126 - val_loss: 1.7105 - val_accuracy: 0.6643\n",
            "Epoch 13/15\n",
            "704/704 [==============================] - 226s 321ms/step - loss: 0.4673 - accuracy: 0.8065 - val_loss: 0.3477 - val_accuracy: 0.8122\n",
            "Epoch 14/15\n",
            "704/704 [==============================] - 225s 319ms/step - loss: 0.4746 - accuracy: 0.8076 - val_loss: 1.1611 - val_accuracy: 0.3468\n",
            "Epoch 15/15\n",
            "704/704 [==============================] - 225s 319ms/step - loss: 0.4500 - accuracy: 0.8119 - val_loss: 0.2607 - val_accuracy: 0.8902\n"
          ]
        }
      ],
      "source": [
        "model_resnet.compile(optimizer=Adam(0.1), loss='sparse_categorical_crossentropy', metrics=['accuracy'])\n",
        "early_stop = EarlyStopping(monitor='val_loss', patience=10, restore_best_weights=True)\n",
        "\n",
        "history_resnet = model_resnet.fit(tf_dataset_train_combined,\n",
        "    epochs=15,\n",
        "    validation_data=tf_dataset_val,\n",
        "    callbacks=[early_stop])"
      ]
    },
    {
      "cell_type": "markdown",
      "metadata": {
        "id": "gZxLUV0B8tSY"
      },
      "source": [
        "Results for ResNet50"
      ]
    },
    {
      "cell_type": "code",
      "execution_count": null,
      "metadata": {
        "id": "uUgS5ZeyVdHA",
        "colab": {
          "base_uri": "https://localhost:8080/",
          "height": 449
        },
        "outputId": "86020892-50b3-4505-de7e-15de79172be3"
      },
      "outputs": [
        {
          "output_type": "display_data",
          "data": {
            "text/plain": [
              "<Figure size 640x480 with 1 Axes>"
            ],
            "image/png": "[encoded data removed]"
          },
          "metadata": {}
        }
      ],
      "source": [
        "import matplotlib.pyplot as plt\n",
        "\n",
        "plt.plot(history_resnet.history['loss'], label='Training Loss')\n",
        "plt.plot(history_resnet.history['val_loss'], label='Validation Loss')\n",
        "plt.xlabel('Epochs')\n",
        "plt.ylabel('Loss')\n",
        "plt.legend()\n",
        "plt.show()"
      ]
    },
    {
      "cell_type": "code",
      "execution_count": null,
      "metadata": {
        "id": "xwBRExv5xk4Y",
        "colab": {
          "base_uri": "https://localhost:8080/"
        },
        "outputId": "2eaeac1a-d035-4451-b44f-e39e9013cdb5"
      },
      "outputs": [
        {
          "output_type": "stream",
          "name": "stdout",
          "text": [
            "230/230 [==============================] - 58s 250ms/step - loss: 0.5533 - accuracy: 0.7410\n",
            "Test Loss: 0.5533331036567688\n",
            "Test Accuracy: 0.7409523725509644\n"
          ]
        }
      ],
      "source": [
        "test_results_EN = model_resnet.evaluate(tf_dataset_test)\n",
        "print(\"Test Loss:\", test_results_EN[0])\n",
        "print(\"Test Accuracy:\", test_results_EN[1])"
      ]
    },
    {
      "cell_type": "markdown",
      "metadata": {
        "id": "lO1G5R0e824p"
      },
      "source": [
        "v. Report Precision, Recall, and F1 score for your model."
      ]
    },
    {
      "cell_type": "markdown",
      "metadata": {
        "id": "mZoUlnq5834w"
      },
      "source": [
        "F1 score, precision and recall for Testing data"
      ]
    },
    {
      "cell_type": "code",
      "execution_count": null,
      "metadata": {
        "id": "q5P72K3hTURE",
        "colab": {
          "base_uri": "https://localhost:8080/"
        },
        "outputId": "a7669610-c97e-4555-c2dd-1294ba7f5808"
      },
      "outputs": [
        {
          "output_type": "stream",
          "name": "stdout",
          "text": [
            "230/230 [==============================] - 58s 249ms/step\n",
            "F1 score, precision and recall for Testing data\n",
            "              precision    recall  f1-score   support\n",
            "\n",
            "           0       0.39      0.63      0.48      2835\n",
            "           1       0.62      0.37      0.46      4515\n",
            "\n",
            "    accuracy                           0.47      7350\n",
            "   macro avg       0.50      0.50      0.47      7350\n",
            "weighted avg       0.53      0.47      0.47      7350\n",
            "\n"
          ]
        }
      ],
      "source": [
        "y_pred_RN = model_resnet.predict(tf_dataset_test)\n",
        "y_pred_RN_classes = tf.argmax(y_pred_RN, axis=1).numpy()\n",
        "y_pred_RN_classes_flat = y_pred_RN_classes.flatten()\n",
        "\n",
        "true_labels_RN = []\n",
        "for images, labels in tf_dataset_test.unbatch():\n",
        "    true_labels_RN.append(labels.numpy())\n",
        "\n",
        "true_labels_RN = np.array(true_labels_RN)\n",
        "true_labels_RN_flat = true_labels_RN.flatten()\n",
        "\n",
        "report_RN = classification_report(true_labels_RN_flat, y_pred_RN_classes_flat)\n",
        "print(\"F1 score, precision and recall for Testing data\")\n",
        "print(report_RN)\n"
      ]
    },
    {
      "cell_type": "markdown",
      "metadata": {
        "id": "jCgxssp286r9"
      },
      "source": [
        "F1 score, precision and recall for training data"
      ]
    },
    {
      "cell_type": "code",
      "execution_count": null,
      "metadata": {
        "id": "N6uOnLaPVLRu",
        "colab": {
          "base_uri": "https://localhost:8080/"
        },
        "outputId": "19e1db1f-049c-498b-cf17-e108ef3ad1c6"
      },
      "outputs": [
        {
          "output_type": "stream",
          "name": "stdout",
          "text": [
            "704/704 [==============================] - 178s 253ms/step\n",
            "F1 score, precision and recall for training data\n",
            "              precision    recall  f1-score   support\n",
            "\n",
            "           0       0.39      0.88      0.54      8821\n",
            "           1       0.62      0.13      0.21     13689\n",
            "\n",
            "    accuracy                           0.42     22510\n",
            "   macro avg       0.51      0.50      0.38     22510\n",
            "weighted avg       0.53      0.42      0.34     22510\n",
            "\n"
          ]
        }
      ],
      "source": [
        "y_pred_RN = model_resnet.predict(tf_dataset_train_combined)\n",
        "y_pred_RN_classes = tf.argmax(y_pred_RN, axis=1).numpy()\n",
        "y_pred_RN_classes_flat = y_pred_RN_classes.flatten()\n",
        "\n",
        "true_labels_RN = []\n",
        "for images, labels in tf_dataset_train_combined.unbatch():\n",
        "    true_labels_RN.append(labels.numpy())\n",
        "\n",
        "true_labels_RN = np.array(true_labels_RN)\n",
        "true_labels_RN_flat = true_labels_RN.flatten()\n",
        "\n",
        "report_RN = classification_report(true_labels_RN_flat, y_pred_RN_classes_flat)\n",
        "print(\"F1 score, precision and recall for training data\")\n",
        "print(report_RN)\n"
      ]
    },
    {
      "cell_type": "markdown",
      "metadata": {
        "id": "g3k9A_5F9FcQ"
      },
      "source": [
        "F1 score, precision and recall for Valdidation data"
      ]
    },
    {
      "cell_type": "code",
      "execution_count": null,
      "metadata": {
        "id": "ecezXlnBVLh0",
        "colab": {
          "base_uri": "https://localhost:8080/"
        },
        "outputId": "bb7936f3-5ae7-4baf-a0f2-ab9151978379"
      },
      "outputs": [
        {
          "output_type": "stream",
          "name": "stdout",
          "text": [
            "186/186 [==============================] - 46s 247ms/step\n",
            "F1 score, precision and recall for Valdidation data\n",
            "              precision    recall  f1-score   support\n",
            "\n",
            "           0       0.66      0.76      0.70      3890\n",
            "           1       0.36      0.25      0.30      2059\n",
            "\n",
            "    accuracy                           0.58      5949\n",
            "   macro avg       0.51      0.51      0.50      5949\n",
            "weighted avg       0.55      0.58      0.56      5949\n",
            "\n"
          ]
        }
      ],
      "source": [
        "y_pred_RN = model_resnet.predict(tf_dataset_val)\n",
        "y_pred_RN_classes = tf.argmax(y_pred_RN, axis=1).numpy()\n",
        "y_pred_RN_classes_flat = y_pred_RN_classes.flatten()\n",
        "\n",
        "true_labels_RN = []\n",
        "for images, labels in tf_dataset_val.unbatch():\n",
        "    true_labels_RN.append(labels.numpy())\n",
        "\n",
        "true_labels_RN = np.array(true_labels_RN)\n",
        "true_labels_RN_flat = true_labels_RN.flatten()\n",
        "\n",
        "report_RN = classification_report(true_labels_RN_flat, y_pred_RN_classes_flat)\n",
        "print(\"F1 score, precision and recall for Valdidation data\")\n",
        "print(report_RN)\n"
      ]
    },
    {
      "cell_type": "markdown",
      "metadata": {
        "id": "A8D0KuOn9Hp6"
      },
      "source": [
        "C. VGG16"
      ]
    },
    {
      "cell_type": "code",
      "execution_count": null,
      "metadata": {
        "id": "6aWbLRceUXkE"
      },
      "outputs": [],
      "source": [
        "# VGG16\n",
        "base_model_vgg = VGG16(weights='imagenet', include_top=False)\n",
        "for layer in base_model_vgg.layers:\n",
        "    layer.trainable = False\n",
        "\n",
        "model_vgg = Sequential([\n",
        "    base_model_vgg,\n",
        "    GlobalAveragePooling2D(),\n",
        "    # BatchNormalization(),\n",
        "    Dense(256, activation='relu'),\n",
        "    BatchNormalization(),\n",
        "    Dropout(0.3),\n",
        "    Dense(2, activation='softmax')\n",
        "])\n"
      ]
    },
    {
      "cell_type": "code",
      "execution_count": null,
      "metadata": {
        "colab": {
          "base_uri": "https://localhost:8080/"
        },
        "id": "_b__UH23UXov",
        "outputId": "1ff2be23-a96e-4b91-931f-62e2148e2c44"
      },
      "outputs": [
        {
          "output_type": "stream",
          "name": "stdout",
          "text": [
            "Epoch 1/15\n",
            "704/704 [==============================] - 289s 408ms/step - loss: 0.3830 - accuracy: 0.8641 - val_loss: 1.0842 - val_accuracy: 0.7753\n",
            "Epoch 2/15\n",
            "704/704 [==============================] - 287s 407ms/step - loss: 0.2854 - accuracy: 0.8915 - val_loss: 1.2826 - val_accuracy: 0.7411\n",
            "Epoch 3/15\n",
            "704/704 [==============================] - 286s 406ms/step - loss: 0.3440 - accuracy: 0.8844 - val_loss: 2.5584 - val_accuracy: 0.5786\n",
            "Epoch 4/15\n",
            "704/704 [==============================] - 284s 403ms/step - loss: 0.3836 - accuracy: 0.8907 - val_loss: 2.5187 - val_accuracy: 0.5947\n",
            "Epoch 5/15\n",
            "704/704 [==============================] - 283s 402ms/step - loss: 0.3154 - accuracy: 0.8963 - val_loss: 3.2029 - val_accuracy: 0.4786\n",
            "Epoch 6/15\n",
            "704/704 [==============================] - 283s 402ms/step - loss: 0.2726 - accuracy: 0.9021 - val_loss: 1.0032 - val_accuracy: 0.8294\n",
            "Epoch 7/15\n",
            "704/704 [==============================] - 283s 401ms/step - loss: 0.3724 - accuracy: 0.8954 - val_loss: 2.6272 - val_accuracy: 0.4460\n",
            "Epoch 8/15\n",
            "704/704 [==============================] - 282s 401ms/step - loss: 0.2508 - accuracy: 0.9088 - val_loss: 0.8271 - val_accuracy: 0.8195\n",
            "Epoch 9/15\n",
            "704/704 [==============================] - 285s 405ms/step - loss: 0.3344 - accuracy: 0.8983 - val_loss: 1.0450 - val_accuracy: 0.8094\n",
            "Epoch 10/15\n",
            "704/704 [==============================] - 283s 401ms/step - loss: 0.2852 - accuracy: 0.9034 - val_loss: 1.1683 - val_accuracy: 0.7539\n",
            "Epoch 11/15\n",
            "704/704 [==============================] - 283s 402ms/step - loss: 0.3383 - accuracy: 0.9066 - val_loss: 2.8809 - val_accuracy: 0.5631\n",
            "Epoch 12/15\n",
            "704/704 [==============================] - 283s 402ms/step - loss: 0.3121 - accuracy: 0.9052 - val_loss: 1.1285 - val_accuracy: 0.8109\n",
            "Epoch 13/15\n",
            "704/704 [==============================] - 283s 402ms/step - loss: 0.2411 - accuracy: 0.9147 - val_loss: 1.6614 - val_accuracy: 0.6618\n",
            "Epoch 14/15\n",
            "704/704 [==============================] - 283s 402ms/step - loss: 0.2777 - accuracy: 0.9082 - val_loss: 1.0308 - val_accuracy: 0.8724\n",
            "Epoch 15/15\n",
            "704/704 [==============================] - 283s 402ms/step - loss: 0.3060 - accuracy: 0.9047 - val_loss: 1.1648 - val_accuracy: 0.6389\n"
          ]
        }
      ],
      "source": [
        "model_vgg.compile(optimizer=Adam(0.1), loss='sparse_categorical_crossentropy', metrics=['accuracy'])\n",
        "early_stop = EarlyStopping(monitor='val_loss', patience=10, restore_best_weights=True)\n",
        "history_vgg = model_vgg.fit(tf_dataset_train_combined,\n",
        "    epochs=15,\n",
        "    validation_data=tf_dataset_val,\n",
        "    callbacks=[early_stop])"
      ]
    },
    {
      "cell_type": "markdown",
      "metadata": {
        "id": "bKRQrOad9O0R"
      },
      "source": [
        "Results for VGG16"
      ]
    },
    {
      "cell_type": "code",
      "execution_count": null,
      "metadata": {
        "colab": {
          "base_uri": "https://localhost:8080/",
          "height": 449
        },
        "id": "_sK5A2oZUXua",
        "outputId": "41741737-528b-44b4-b9e7-1fd7597388c8"
      },
      "outputs": [
        {
          "output_type": "display_data",
          "data": {
            "text/plain": [
              "<Figure size 640x480 with 1 Axes>"
            ],
            "image/png": "[encoded data removed]"
          },
          "metadata": {}
        }
      ],
      "source": [
        "import matplotlib.pyplot as plt\n",
        "\n",
        "plt.plot(history_vgg.history['loss'], label='Training Loss')\n",
        "plt.plot(history_vgg.history['val_loss'], label='Validation Loss')\n",
        "plt.xlabel('Epochs')\n",
        "plt.ylabel('Loss')\n",
        "plt.legend()\n",
        "plt.show()"
      ]
    },
    {
      "cell_type": "code",
      "execution_count": null,
      "metadata": {
        "colab": {
          "base_uri": "https://localhost:8080/"
        },
        "id": "s1tQEeVMSs9B",
        "outputId": "50c27261-c740-41fc-ba77-9a20acd274cf"
      },
      "outputs": [
        {
          "output_type": "stream",
          "name": "stdout",
          "text": [
            "230/230 [==============================] - 73s 318ms/step - loss: 0.2421 - accuracy: 0.8830\n",
            "Test Loss: 0.24208226799964905\n",
            "Test Accuracy: 0.882993221282959\n"
          ]
        }
      ],
      "source": [
        "test_results_EN = model_vgg.evaluate(tf_dataset_test)\n",
        "print(\"Test Loss:\", test_results_EN[0])\n",
        "print(\"Test Accuracy:\", test_results_EN[1])"
      ]
    },
    {
      "cell_type": "markdown",
      "metadata": {
        "id": "m7dQrXFF9YEa"
      },
      "source": [
        "v. Report Precision, Recall, and F1 score for your model."
      ]
    },
    {
      "cell_type": "markdown",
      "metadata": {
        "id": "OEI8Ur-19ZE-"
      },
      "source": [
        "F1 score, precision and recall for Testing data"
      ]
    },
    {
      "cell_type": "code",
      "execution_count": null,
      "metadata": {
        "colab": {
          "base_uri": "https://localhost:8080/"
        },
        "id": "2WcbsCROudrc",
        "outputId": "172c0e34-ae60-43f9-ed30-2467dc0164a8"
      },
      "outputs": [
        {
          "output_type": "stream",
          "name": "stdout",
          "text": [
            "230/230 [==============================] - 73s 314ms/step\n",
            "F1 score, precision and recall for Testing data\n",
            "              precision    recall  f1-score   support\n",
            "\n",
            "           0       0.41      0.29      0.34      2835\n",
            "           1       0.62      0.73      0.67      4515\n",
            "\n",
            "    accuracy                           0.56      7350\n",
            "   macro avg       0.51      0.51      0.51      7350\n",
            "weighted avg       0.54      0.56      0.54      7350\n",
            "\n"
          ]
        }
      ],
      "source": [
        "y_pred_VGG = model_vgg.predict(tf_dataset_test)\n",
        "y_pred_VGG_classes = tf.argmax(y_pred_VGG, axis=1).numpy()\n",
        "y_pred_VGG_classes_flat = y_pred_VGG_classes.flatten()\n",
        "\n",
        "true_labels_VGG = []\n",
        "for images, labels in tf_dataset_test.unbatch():\n",
        "    true_labels_VGG.append(labels.numpy())\n",
        "\n",
        "true_labels_VGG = np.array(true_labels_VGG)\n",
        "true_labels_VGG_flat = true_labels_VGG.flatten()\n",
        "\n",
        "report_VGG = classification_report(true_labels_VGG_flat, y_pred_VGG_classes_flat)\n",
        "print(\"F1 score, precision and recall for Testing data\")\n",
        "print(report_VGG)\n"
      ]
    },
    {
      "cell_type": "markdown",
      "metadata": {
        "id": "uL8yLBvi9eXC"
      },
      "source": [
        "F1 score, precision and recall for Training data"
      ]
    },
    {
      "cell_type": "code",
      "execution_count": null,
      "metadata": {
        "id": "woEr0sHCueaB",
        "colab": {
          "base_uri": "https://localhost:8080/"
        },
        "outputId": "018a1214-7404-4e71-9cce-9f264eb5ab4e"
      },
      "outputs": [
        {
          "output_type": "stream",
          "name": "stdout",
          "text": [
            "704/704 [==============================] - 224s 317ms/step\n",
            "F1 score, precision and recall for Training data\n",
            "              precision    recall  f1-score   support\n",
            "\n",
            "           0       0.39      0.27      0.32      8821\n",
            "           1       0.61      0.73      0.66     13689\n",
            "\n",
            "    accuracy                           0.55     22510\n",
            "   macro avg       0.50      0.50      0.49     22510\n",
            "weighted avg       0.52      0.55      0.53     22510\n",
            "\n"
          ]
        }
      ],
      "source": [
        "y_pred_VGG = model_vgg.predict(tf_dataset_train_combined)\n",
        "y_pred_VGG_classes = tf.argmax(y_pred_VGG, axis=1).numpy()\n",
        "y_pred_VGG_classes_flat = y_pred_VGG_classes.flatten()\n",
        "\n",
        "true_labels_VGG = []\n",
        "for images, labels in tf_dataset_train_combined.unbatch():\n",
        "    true_labels_VGG.append(labels.numpy())\n",
        "\n",
        "true_labels_VGG = np.array(true_labels_VGG)\n",
        "true_labels_VGG_flat = true_labels_VGG.flatten()\n",
        "\n",
        "report_VGG = classification_report(true_labels_VGG_flat, y_pred_VGG_classes_flat)\n",
        "print(\"F1 score, precision and recall for Training data\")\n",
        "print(report_VGG)\n"
      ]
    },
    {
      "cell_type": "markdown",
      "metadata": {
        "id": "lL8fbyiZ9jpx"
      },
      "source": [
        "F1 score, precision and recall for Validation data"
      ]
    },
    {
      "cell_type": "code",
      "execution_count": null,
      "metadata": {
        "id": "cj-zsgMHufB4",
        "colab": {
          "base_uri": "https://localhost:8080/"
        },
        "outputId": "16cf0bda-72d2-4d1e-f828-09464f6c3f3a"
      },
      "outputs": [
        {
          "output_type": "stream",
          "name": "stdout",
          "text": [
            "186/186 [==============================] - 59s 314ms/step\n",
            "F1 score, precision and recall for Validation data\n",
            "              precision    recall  f1-score   support\n",
            "\n",
            "           0       0.65      0.32      0.43      3890\n",
            "           1       0.34      0.67      0.45      2059\n",
            "\n",
            "    accuracy                           0.44      5949\n",
            "   macro avg       0.50      0.50      0.44      5949\n",
            "weighted avg       0.54      0.44      0.44      5949\n",
            "\n"
          ]
        }
      ],
      "source": [
        "y_pred_VGG = model_vgg.predict(tf_dataset_val)\n",
        "y_pred_VGG_classes = tf.argmax(y_pred_VGG, axis=1).numpy()\n",
        "y_pred_VGG_classes_flat = y_pred_VGG_classes.flatten()\n",
        "\n",
        "true_labels_VGG = []\n",
        "for images, labels in tf_dataset_val.unbatch():\n",
        "    true_labels_VGG.append(labels.numpy())\n",
        "\n",
        "true_labels_VGG = np.array(true_labels_VGG)\n",
        "true_labels_VGG_flat = true_labels_VGG.flatten()\n",
        "\n",
        "report_VGG = classification_report(true_labels_VGG_flat, y_pred_VGG_classes_flat)\n",
        "print(\"F1 score, precision and recall for Validation data\")\n",
        "print(report_VGG)\n"
      ]
    },
    {
      "cell_type": "markdown",
      "metadata": {
        "id": "7eailut0NtT1"
      },
      "source": [
        "## vi. Compare the results of transfer learning with those of CNN + MLP model and explain them."
      ]
    },
    {
      "cell_type": "markdown",
      "metadata": {
        "id": "gWM0cM6UN0R0"
      },
      "source": [
        "### Training and validation errors vs. epochs"
      ]
    },
    {
      "cell_type": "markdown",
      "metadata": {
        "id": "aINS-XxaPnmm"
      },
      "source": [
        "#### CNN + MLP\n",
        "![image.png](data:image/png;base64,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)\n",
        "\n",
        "#### EfficientNetB0\n",
        "![image.png](data:image/png;base64,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)\n",
        "\n",
        "\n",
        "#### ResNet50\n",
        "![image.png](data:image/png;base64,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)\n",
        "\n",
        "\n",
        "#### VGG16\n",
        "![image.png](data:image/png;base64,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)"
      ]
    },
    {
      "cell_type": "markdown",
      "source": [
        "### Comparison: Training and validation errors vs. epochs\n",
        "\n",
        "1. CNN - MLP: The training loss seems to gradually decrease and the validation loss almost consistently seems to decrease along the training loss, which says that it can generalize better.\n",
        "\n",
        "2. EfficientNetB0: The training loss seems to have very less changes, and is always around the same value. The validation loss increases and decreases drastically here, and we see a lot of flunctuations.\n",
        "\n",
        "3. ResNet50: The training loss seems to have very less changes, and is always around the same value. The validation loss increases and decreases drastically here, and we see a lot of flunctuations. But towards the end of our set number of epochs, the validation loss does decrease significantly.\n",
        "\n",
        "4. VGG16: The training loss seems to have very less changes, and is always around the same value. The validation loss increases and decreases drastically here, we see a lot of flunctuations. And the validation loss is quite high.\n",
        "\n",
        "\n",
        "Although we see such kind of behaviour in these models, we haven't run them for longer/higher number of epochs. So if we keep training them for higher number of epochs, they might or not show improvement in terms of validation/training loss."
      ],
      "metadata": {
        "id": "PVuKs_RkbNWl"
      }
    },
    {
      "cell_type": "markdown",
      "metadata": {
        "id": "120HlwnJVw2v"
      },
      "source": [
        "### Precision, Recall, F1 score, Test Accuracy"
      ]
    },
    {
      "cell_type": "markdown",
      "metadata": {
        "id": "cTXoN65eN-h0"
      },
      "source": [
        "#### For CNN + MLP:\n",
        "\n",
        "Test Accuracy: 0.8620408177375793\n",
        "\n",
        "F1, precision, recall for Test set\n",
        "\n",
        "              precision    recall  f1-score   support\n",
        "\n",
        "           0       0.39      0.44      0.41      2835\n",
        "           1       0.62      0.56      0.59      4515\n",
        "\n",
        "    accuracy                           0.51      7350\n",
        "    macro avg       0.50      0.50     0.50      7350\n",
        "    weighted avg    0.53      0.51     0.52      7350\n",
        "\n",
        "\n"
      ]
    },
    {
      "cell_type": "markdown",
      "metadata": {
        "id": "C8eINFzuWBB3"
      },
      "source": [
        "#### For EfficientNetB0:"
      ]
    },
    {
      "cell_type": "markdown",
      "source": [
        "Test Accuracy: 0.6142857074737549\n",
        "\n",
        "F1 score, precision and recall for Testing data\n",
        "\n",
        "              precision    recall  f1-score   support\n",
        "\n",
        "           0       0.00      0.00      0.00      2835\n",
        "           1       0.61      1.00      0.76      4515\n",
        "\n",
        "    accuracy                            0.61      7350\n",
        "    macro avg       0.31      0.50      0.38      7350\n",
        "    weighted avg    0.38      0.61      0.47      7350"
      ],
      "metadata": {
        "id": "Ts2LuWQDhsp6"
      }
    },
    {
      "cell_type": "markdown",
      "metadata": {
        "id": "7lqf8cONWKUs"
      },
      "source": [
        "#### For ResNet50:\n",
        "\n",
        "Test Accuracy: 0.7409523725509644\n",
        "\n",
        "\n",
        "F1 score, precision and recall for Testing data\n",
        "\n",
        "              precision    recall  f1-score   support\n",
        "\n",
        "           0       0.39      0.63      0.48      2835\n",
        "           1       0.62      0.37      0.46      4515\n",
        "\n",
        "    accuracy                           0.47      7350\n",
        "    macro avg      0.50      0.50      0.47      7350\n",
        "    weighted avg   0.53      0.47      0.47      7350"
      ]
    },
    {
      "cell_type": "markdown",
      "metadata": {
        "id": "tyTiWBDYWKe3"
      },
      "source": [
        "#### For VGG16:"
      ]
    },
    {
      "cell_type": "markdown",
      "source": [
        "Test Accuracy: 0.882993221282959\n",
        "\n",
        "\n",
        "F1 score, precision and recall for Testing data\n",
        "\n",
        "              precision    recall  f1-score   support\n",
        "\n",
        "           0       0.41      0.29      0.34      2835\n",
        "           1       0.62      0.73      0.67      4515\n",
        "\n",
        "    accuracy                           0.56      7350\n",
        "    macro avg       0.51      0.51     0.51      7350\n",
        "    weighted avg    0.54      0.56     0.54      7350"
      ],
      "metadata": {
        "id": "p5FSbZCOjI1t"
      }
    },
    {
      "cell_type": "markdown",
      "source": [
        "### Comparison: Test Accuracy\n",
        "We can see that we get the highest test accuracy for VGG16 out of the 4 models. It is followed by the CNN + MLP model, which seems to have an ability to generalize better. And then it's followed by ResNet50 and EfficientNetB0."
      ],
      "metadata": {
        "id": "MuTJyjjiWB7s"
      }
    },
    {
      "cell_type": "markdown",
      "source": [
        "### Comparison: Precision, recall, F1 score\n",
        "\n",
        "1. CNN + MLP has moderate precision and recall for both classes, with relatively balanced performance.\n",
        "\n",
        "2. EfficientNetB0 performs well in identifying Class 1 data but poorly in identifying Class 0 data (precision = 0, recall = 0.) EfficientNetB0 has a high F1 score for Class 1 but performs poorly for Class 0, where its F1 score is 0.00.\n",
        "\n",
        "3. ResNet50 has better recall for Class 0 but struggles with precision for Class 1.\n",
        "\n",
        "4. VGG16 has higher precision, and recall for Class 1 but relatively lower precision and recall for Class 0. VGG16 has a higher F1 score for Class 1 but a lower one for Class 0."
      ],
      "metadata": {
        "id": "EYeQvs23X9WA"
      }
    }
  ],
  "metadata": {
    "accelerator": "GPU",
    "colab": {
      "machine_shape": "hm",
      "provenance": [],
      "mount_file_id": "1-BzvfQnef_EIJlpBSe8ESi3MWXtFnL80",
      "authorship_tag": "ABX9TyP3HsgbOP2QnPAFWVVEsLar",
      "include_colab_link": true
    },
    "kernelspec": {
      "display_name": "Python 3",
      "name": "python3"
    },
    "language_info": {
      "name": "python"
    }
  },
  "nbformat": 4,
  "nbformat_minor": 0
}